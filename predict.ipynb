import pandas as pd
from sqlalchemy import create_engine
import config
from sklearn.model_selection import train_test_split

#create the string to connect to the database - will be used with sqlalchemy!
protocol = "postgresql"
user = config.user
password = config.pw
location = "localhost"
port = "5432"
database = "crypto"

connection_string = f"{protocol}://{user}:{password}@{location}:{port}/{database}"
print(connection_string)

# Establecer la conexión con la base de datos
engine = create_engine(connection_string)

# Consulta SQL para extraer datos
query = "SELECT "Unix_Timestamp", "Low_Price", "High_Price", "Open_Price", "Close_Price", "Coin_Volume", "Entry_Date", "Symbol", FROM ethereum"

# Ejecutar la consulta y almacenar los resultados en un DataFrame de Pandas
data = pd.read_sql(query, engine)

# Por ejemplo, manejar valores faltantes
data = data.dropna()

# Dividir los datos en características (X) y variable objetivo (y)
X = data.drop('Close_Price', axis=1)
y = data['Close_Price']

# Dividir los datos en conjuntos de entrenamiento y prueba (80% entrenamiento, 20% prueba)
X_train, X_test, y_train, y_test = train_test_split(X, y, test_size=0.2, random_state=42)
